{
  "nbformat": 4,
  "nbformat_minor": 0,
  "metadata": {
    "colab": {
      "provenance": [],
      "authorship_tag": "ABX9TyMr8+B4YSP47gGjCYVurRdi",
      "include_colab_link": true
    },
    "kernelspec": {
      "name": "python3",
      "display_name": "Python 3"
    },
    "language_info": {
      "name": "python"
    }
  },
  "cells": [
    {
      "cell_type": "markdown",
      "metadata": {
        "id": "view-in-github",
        "colab_type": "text"
      },
      "source": [
        "<a href=\"https://colab.research.google.com/github/hwarang97/algorithm/blob/main/DFS%EC%95%8C%EA%B3%A0%EB%A6%AC%EC%A6%98.ipynb\" target=\"_parent\"><img src=\"https://colab.research.google.com/assets/colab-badge.svg\" alt=\"Open In Colab\"/></a>"
      ]
    },
    {
      "cell_type": "markdown",
      "source": [
        "[DFS 코드 출처](https://data-marketing-bk.tistory.com/entry/DFS-%EC%99%84%EB%B2%BD-%EA%B5%AC%ED%98%84%ED%95%98%EA%B8%B0-%ED%8C%8C%EC%9D%B4%EC%8D%AC)\n",
        "\n"
      ],
      "metadata": {
        "id": "u2LmbyY_Lnrl"
      }
    },
    {
      "cell_type": "code",
      "execution_count": 1,
      "metadata": {
        "id": "lSyTOLcQpodE"
      },
      "outputs": [],
      "source": [
        "graph = dict()\n",
        "\n",
        "graph['A'] = ['B', 'C']\n",
        "graph['B'] = ['A', 'D']\n",
        "graph['C'] = ['A', 'G', 'H', 'I']\n",
        "graph['D'] = ['B', 'E', 'F']\n",
        "graph['E'] = ['D']\n",
        "graph['F'] = ['D']\n",
        "graph['G'] = ['C']\n",
        "graph['H'] = ['C']\n",
        "graph['I'] = ['C', 'J']\n",
        "graph['J'] = ['I']"
      ]
    },
    {
      "cell_type": "code",
      "source": [
        "def dfs(graph, start_node):\n",
        "\n",
        "    # 방문했던 노드를 기억하는 리스트\n",
        "    # 앞으로 방문할 노드를 담는 스택(리스트)\n",
        "    need_visited, visited = list(), list()\n",
        "    need_visited.append(start_node)\n",
        "\n",
        "    while need_visited:\n",
        "        node = need_visited.pop()\n",
        "        if node not in visited:\n",
        "            visited.append(node)\n",
        "            need_visited.extend(graph[node])\n",
        "\n",
        "    return visited"
      ],
      "metadata": {
        "id": "PFdYr0GAqEhy"
      },
      "execution_count": 4,
      "outputs": []
    },
    {
      "cell_type": "code",
      "source": [
        "dfs(graph, 'A')"
      ],
      "metadata": {
        "colab": {
          "base_uri": "https://localhost:8080/"
        },
        "id": "DO-pCSIDsqPJ",
        "outputId": "40090b31-fc64-465b-a88f-06eaaa2a87fe"
      },
      "execution_count": 5,
      "outputs": [
        {
          "output_type": "execute_result",
          "data": {
            "text/plain": [
              "['A', 'C', 'I', 'J', 'H', 'G', 'B', 'D', 'F', 'E']"
            ]
          },
          "metadata": {},
          "execution_count": 5
        }
      ]
    },
    {
      "cell_type": "code",
      "source": [
        "def dfs2(graph, start_node):\n",
        "    from collections import deque\n",
        "\n",
        "    # 방문했던 노드를 기억하는 리스트\n",
        "    # 앞으로 방문할 노드를 담는 스택(리스트)\n",
        "    visited = list()\n",
        "    need_visited = deque() # deque를 쓰는 이유가 뭐지?? (아래에 기술해놓음.)\n",
        "    need_visited.append(start_node)\n",
        "\n",
        "    while need_visited:\n",
        "        node = need_visited.pop()\n",
        "        if node not in visited:\n",
        "            visited.append(node)\n",
        "            need_visited.extend(graph[node])\n",
        "\n",
        "    return visited"
      ],
      "metadata": {
        "id": "f4zHhOv9LSsC"
      },
      "execution_count": 6,
      "outputs": []
    },
    {
      "cell_type": "code",
      "source": [
        "dfs2(graph, 'A')"
      ],
      "metadata": {
        "colab": {
          "base_uri": "https://localhost:8080/"
        },
        "id": "xpi4Z9TdLgjk",
        "outputId": "6d3f2dc7-84b8-44eb-b0c4-d1f910fc2783"
      },
      "execution_count": 7,
      "outputs": [
        {
          "output_type": "execute_result",
          "data": {
            "text/plain": [
              "['A', 'C', 'I', 'J', 'H', 'G', 'B', 'D', 'F', 'E']"
            ]
          },
          "metadata": {},
          "execution_count": 7
        }
      ]
    },
    {
      "cell_type": "markdown",
      "source": [
        "## List 대신 Deque를 쓰는 이유\n",
        "\n",
        "- 속도가 훨씬 빠르기 때문\n",
        "\n",
        "    list는 O(n)을 따르지만, deque는 O(1)의 속도.\n",
        "    속도의 가장 큰 차이는 0번 인덱스에 해당되는 원소를 삭제, 삽일할 때 발생한다.\n",
        "\n",
        "    각 자료구조는 뒤에서 삽입/삭제는 차이가 없지만, 첫번째 원소를 삽입/삭제한다면\n",
        "\n",
        "    리스트는 첫번째 원소를 삭제한 다음, 모든 원소를 한칸씩 앞으로 당겨야한다. 따라서 이때 n번의 연산이 발생한다.\n",
        "\n",
        "    데큐(덱)의 경우, 양끝에서 삽입/삭제가 일어나기에 1번의 연산으로 해결할 수 있다.\n",
        "\n"
      ],
      "metadata": {
        "id": "6hzNjtyEMFhI"
      }
    },
    {
      "cell_type": "markdown",
      "source": [
        "## 질문\n",
        "\n",
        "1. 그럼 데큐가 가운데 있는 원소를 없앨때는, 원소가 한칸씩 이동할수있지 않는가? 이때도 리스트보다 빠르게 처리되는가?\n",
        "\n",
        "    -> 실험을 통해서 알아봤는데, 중간에 값을 넣어봐도 덱이 리스트보다 좋은 성능을 보여준다.\n",
        "    \n",
        "    내부적으로 리스트는 배열 기반 구조이므로, 중간에 삽입/삭제하면 모든 원소를 이동해야한다.\n",
        "\n",
        "    반면, 데큐(덱)은 양방향 연결 리스트로 구현되어 있어서 중간에 원소를 삽입/삭제 하여도 O(1)의 시간 복잡도를 가진다. 즉, 모든 원소를 이동시키지 않고도 빠르게 처리할 수 있다.\n",
        "\n",
        "    \n",
        "\n",
        "2. 리스트가 fast fixed length 라는건 무슨 뜻일까?\n",
        "\n",
        "    -> fast란 빠르게 접근한다는 의미로 index를 통해서 원소에 접근하면 O(1)의 시간복잡도를 띈다고 해서 fast라고 표현한다.\n",
        "\n",
        "    fixed length는 자료구조의 크기가 고정되어 있다는걸 의미하는데, 파이썬의 list는 동적 배열(즉, 크기가 변함)이므로 fixed length가 아니다. 아마 다른 언어에서 리스트가 fixed length인 경우가 있는것같다."
      ],
      "metadata": {
        "id": "oXoYwy5fPJU4"
      }
    },
    {
      "cell_type": "code",
      "source": [
        "# list와 deque의 중간 원소 삽입의 속도 차이 실험\n",
        "\n",
        "from collections import deque\n",
        "# import timeit # time과 유사하지만, 자체적으로 반복실행한 후 평균값을 알려준다\n",
        "import time\n",
        "\n",
        "l = [n for n in range(1,1000)]\n",
        "d = deque(l)\n",
        "\n",
        "start_time = time.time()\n",
        "for _ in range(1000):\n",
        "    l.insert(50, 100)\n",
        "end_time = time.time()\n",
        "elapsed_time = (start_time - end_time)\n",
        "print(f'list elapsed_time:{elapsed_time:.10f}')\n",
        "\n",
        "start_time = time.time()\n",
        "for _ in range(1000):\n",
        "    d.insert(50, 100)\n",
        "end_time = time.time()\n",
        "elapsed_time = (start_time - end_time)\n",
        "print(f'deque elapsed_time:{elapsed_time:.10f}')"
      ],
      "metadata": {
        "colab": {
          "base_uri": "https://localhost:8080/"
        },
        "id": "JksWm2TqQBcN",
        "outputId": "9496a97c-0c26-45ea-d631-ecfc5138e56d"
      },
      "execution_count": 26,
      "outputs": [
        {
          "output_type": "stream",
          "name": "stdout",
          "text": [
            "list elapsed_time:-0.0015447140\n",
            "deque elapsed_time:-0.0006105900\n"
          ]
        }
      ]
    },
    {
      "cell_type": "code",
      "source": [
        "def dfs_recursive(graph, start, visited = []):\n",
        "    visited.append(start) # 상태를 저장해주는 공간은 필요\n",
        "\n",
        "    for node in graph[start]: # need visit을 쓰지 않고 진행. 리스트가 비어있으면 진행되지 않음.\n",
        "        if node not in visited:\n",
        "            dfs_recursive(graph, node, visited)\n",
        "    return visited # 반복문 내에서 return 된 것을 버려지는것 같고, 가장 바깥 return만이 진짜로 반환되는듯"
      ],
      "metadata": {
        "id": "wsuLFxVAaJ4X"
      },
      "execution_count": 36,
      "outputs": []
    },
    {
      "cell_type": "code",
      "source": [
        "dfs_recursive(graph, 'A')"
      ],
      "metadata": {
        "colab": {
          "base_uri": "https://localhost:8080/"
        },
        "id": "zkDXEQSBbrlM",
        "outputId": "52130189-2f1f-4e1c-f8bb-81c134bac07c"
      },
      "execution_count": 37,
      "outputs": [
        {
          "output_type": "stream",
          "name": "stdout",
          "text": [
            "['A', 'B', 'D', 'E', 'F', 'C', 'G', 'H', 'I', 'J']\n"
          ]
        }
      ]
    },
    {
      "cell_type": "markdown",
      "source": [
        "### DFS 구현 방법 장단점(경험)\n",
        "\n",
        "1. 2개의 저장공간을 활용하는 경우\n",
        "\n",
        "    장점: 이해하기 쉽다.   \n",
        "    단점: 재귀함수로 구현한것보다는 코드가 길다\n",
        "\n",
        "2. 재귀함수를 이용해서 구현한 경우\n",
        "\n",
        "    장점: 코드가 단순하다.   \n",
        "    단점: 이해하기 어렵다."
      ],
      "metadata": {
        "id": "IFDbbQUuby8h"
      }
    }
  ]
}